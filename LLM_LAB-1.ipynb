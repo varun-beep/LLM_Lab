{
 "cells": [
  {
   "cell_type": "code",
   "execution_count": 2,
   "id": "5e70e279",
   "metadata": {},
   "outputs": [],
   "source": [
    "from transformers import AutoTokenizer, AutoModelForSeq2SeqLM\n",
    "\n",
    "# Load FLAN-T5 (base or XL depending on what you want)\n",
    "model_name = \"google/flan-t5-base\"  # Use flan-t5-xl if Colab GPU is enabled\n",
    "tokenizer = AutoTokenizer.from_pretrained(model_name)\n",
    "model = AutoModelForSeq2SeqLM.from_pretrained(model_name)\n",
    "\n",
    "def ask_model(prompt):\n",
    "    input_ids = tokenizer(prompt, return_tensors=\"pt\").input_ids\n",
    "    output_ids = model.generate(input_ids, max_new_tokens=300)\n",
    "    return tokenizer.decode(output_ids[0], skip_special_tokens=True).strip()"
   ]
  },
  {
   "cell_type": "code",
   "execution_count": 3,
   "id": "0e36b0cc",
   "metadata": {},
   "outputs": [
    {
     "name": "stdout",
     "output_type": "stream",
     "text": [
      "🧪 Prompt 1: Why is the Mona Lisa so famous?\n",
      "💬 the first surviving effigy\n",
      "🧪 Prompt 2: Explain in 2–3 sentences: Why is the Mona Lisa so famous?\n",
      "💬 It is the only painting in the world that has been exhibited in the United States.\n",
      "🧪 Prompt 3: You are a museum guide. Why is the Mona Lisa so famous? Give a detailed, friendly answer.\n",
      "💬 The Mona Lisa is the most famous painting in the world.\n"
     ]
    }
   ],
   "source": [
    "# Same question, different prompt styles\n",
    "q1 = \"Why is the Mona Lisa so famous?\"\n",
    "\n",
    "prompt1 = f\"{q1}\"\n",
    "prompt2 = f\"Explain in 2–3 sentences: {q1}\"\n",
    "prompt3 = f\"You are a museum guide. {q1} Give a detailed, friendly answer.\"\n",
    "\n",
    "print(\"🧪 Prompt 1:\", prompt1)\n",
    "print(\"💬\", ask_model(prompt1))\n",
    "print(\"🧪 Prompt 2:\", prompt2)\n",
    "print(\"💬\", ask_model(prompt2))\n",
    "print(\"🧪 Prompt 3:\", prompt3)\n",
    "print(\"💬\", ask_model(prompt3))"
   ]
  },
  {
   "cell_type": "code",
   "execution_count": 4,
   "id": "9b51f63c",
   "metadata": {},
   "outputs": [],
   "source": [
    "prompts = [\n",
    "    \"What is artificial intelligence?\",\n",
    "    \"Why is the Mona Lisa so mysterious?\",\n",
    "    \"Explain the greenhouse effect in a simple way.\"\n",
    "]"
   ]
  },
  {
   "cell_type": "code",
   "execution_count": 8,
   "id": "4782e99d",
   "metadata": {},
   "outputs": [
    {
     "name": "stdout",
     "output_type": "stream",
     "text": [
      "Q: What is deep learning?\n",
      "A: Deep learning is a type of machine learning that uses data from a computer to learn a new language.\n",
      "————————————————————————————————————————————————————————————\n",
      "Q: What makes the Mona Lisa's smile mysterious?\n",
      "A: a smirk\n",
      "————————————————————————————————————————————————————————————\n",
      "Q: How do airplanes fly?\n",
      "A: Airplanes are powered by engines.\n",
      "————————————————————————————————————————————————————————————\n"
     ]
    }
   ],
   "source": [
    "questions = [\n",
    "    \"What is deep learning?\",\n",
    "    \"What makes the Mona Lisa's smile mysterious?\",\n",
    "    \"How do airplanes fly?\"\n",
    "]\n",
    "\n",
    "for q in questions:\n",
    "    print(\"Q:\", q)\n",
    "    print(\"A:\", ask_model(q))\n",
    "    print(\"—\" * 60)\n"
   ]
  },
  {
   "cell_type": "code",
   "execution_count": null,
   "id": "d394d111",
   "metadata": {},
   "outputs": [],
   "source": []
  }
 ],
 "metadata": {
  "kernelspec": {
   "display_name": "base",
   "language": "python",
   "name": "python3"
  },
  "language_info": {
   "codemirror_mode": {
    "name": "ipython",
    "version": 3
   },
   "file_extension": ".py",
   "mimetype": "text/x-python",
   "name": "python",
   "nbconvert_exporter": "python",
   "pygments_lexer": "ipython3",
   "version": "3.12.7"
  }
 },
 "nbformat": 4,
 "nbformat_minor": 5
}
